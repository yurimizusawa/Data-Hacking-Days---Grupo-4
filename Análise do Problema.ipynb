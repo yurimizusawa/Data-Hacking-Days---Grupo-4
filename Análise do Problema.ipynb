{
 "cells": [
  {
   "cell_type": "markdown",
   "metadata": {},
   "source": [
    "### Setup ambiente e importações de módulos"
   ]
  },
  {
   "cell_type": "code",
   "execution_count": 1,
   "metadata": {},
   "outputs": [],
   "source": [
    "import warnings\n",
    "warnings.filterwarnings(\"ignore\", category=DeprecationWarning) \n",
    "import pandas as pd\n",
    "import logging\n",
    "import os\n",
    "import cx_Oracle\n",
    "#logging.basicConfig(format='%(levelname)s:%(message)s', level=logging.INFO)\n",
    "#from ads.dataset.factory import DatasetFactory\n",
    "#from sqlalchemy import create_engine\n",
    "# Add TNS_ADMIN to the environment\n",
    "os.environ['TNS_ADMIN'] = \"/home/datascience/ADB\"\n",
    "connection = cx_Oracle.connect('hackathon', 'bCfrCC0981267', 'adw_low')"
   ]
  },
  {
   "cell_type": "code",
   "execution_count": 2,
   "metadata": {},
   "outputs": [],
   "source": [
    "pd.options.display.float_format = 'R${:,.2f}'.format"
   ]
  },
  {
   "cell_type": "markdown",
   "metadata": {},
   "source": [
    "# Valor total de transações versus transações no cartão carrefour em postos Carrefour"
   ]
  },
  {
   "cell_type": "code",
   "execution_count": 3,
   "metadata": {},
   "outputs": [
    {
     "data": {
      "text/html": [
       "<style  type=\"text/css\" >\n",
       "</style><table id=\"T_d2369b6a_3ca9_11eb_b17b_41ddb3aa25b2\" ><thead>    <tr>        <th class=\"blank level0\" ></th>        <th class=\"col_heading level0 col0\" >CARTAO</th>        <th class=\"col_heading level0 col1\" >TOTAL</th>        <th class=\"col_heading level0 col2\" >PCT_SHARE</th>    </tr></thead><tbody>\n",
       "                <tr>\n",
       "                        <th id=\"T_d2369b6a_3ca9_11eb_b17b_41ddb3aa25b2level0_row0\" class=\"row_heading level0 row0\" >0</th>\n",
       "                        <td id=\"T_d2369b6a_3ca9_11eb_b17b_41ddb3aa25b2row0_col0\" class=\"data row0 col0\" >R$1,287,056.68</td>\n",
       "                        <td id=\"T_d2369b6a_3ca9_11eb_b17b_41ddb3aa25b2row0_col1\" class=\"data row0 col1\" >R$4,156,446.34</td>\n",
       "                        <td id=\"T_d2369b6a_3ca9_11eb_b17b_41ddb3aa25b2row0_col2\" class=\"data row0 col2\" >30.97%</td>\n",
       "            </tr>\n",
       "    </tbody></table>"
      ],
      "text/plain": [
       "<pandas.io.formats.style.Styler at 0x7f88806fe1d0>"
      ]
     },
     "execution_count": 3,
     "metadata": {},
     "output_type": "execute_result"
    }
   ],
   "source": [
    "BUFFER_CCI = pd.read_sql(\"Select sum(ICUP_VL_PAGOCARTAO) Cartao,  sum(ICUP_VL_TOTALITEM) Total, (sum(ICUP_VL_PAGOCARTAO)/sum(ICUP_VL_TOTALITEM)) PCT_SHARE  FROM EVE_BUFFER_CCI_AQUISICAO_HCKT WHERE ICUP_DT_CUPOM BETWEEN TO_DATE('01/01/2020' , 'DD/MM/YYYY') AND  TO_DATE('31/01/2020' , 'DD/MM/YYYY') and MERC_DS_TIPO_ESTABELECIMENTO='5-POSTO'\",  con=connection) \n",
    "BUFFER_CCI.style.format({'CARTAO': 'R${:,.2f}','TOTAL': 'R${:,.2f}','PCT_SHARE':\"{:.2%}\"})\n",
    "#BUFFER_CCI"
   ]
  },
  {
   "cell_type": "markdown",
   "metadata": {},
   "source": [
    "# Evolução do share do cartão em 2020"
   ]
  },
  {
   "cell_type": "code",
   "execution_count": 4,
   "metadata": {},
   "outputs": [
    {
     "data": {
      "text/html": [
       "<style  type=\"text/css\" >\n",
       "</style><table id=\"T_df621ee0_3ca9_11eb_b17b_41ddb3aa25b2\" ><thead>    <tr>        <th class=\"blank level0\" ></th>        <th class=\"col_heading level0 col0\" >MES</th>        <th class=\"col_heading level0 col1\" >CARTAO</th>        <th class=\"col_heading level0 col2\" >TOTAL</th>        <th class=\"col_heading level0 col3\" >PCT_SHARE</th>    </tr></thead><tbody>\n",
       "                <tr>\n",
       "                        <th id=\"T_df621ee0_3ca9_11eb_b17b_41ddb3aa25b2level0_row0\" class=\"row_heading level0 row0\" >0</th>\n",
       "                        <td id=\"T_df621ee0_3ca9_11eb_b17b_41ddb3aa25b2row0_col0\" class=\"data row0 col0\" ></td>\n",
       "                        <td id=\"T_df621ee0_3ca9_11eb_b17b_41ddb3aa25b2row0_col1\" class=\"data row0 col1\" >R$1,287,056.68</td>\n",
       "                        <td id=\"T_df621ee0_3ca9_11eb_b17b_41ddb3aa25b2row0_col2\" class=\"data row0 col2\" >R$4,156,446.34</td>\n",
       "                        <td id=\"T_df621ee0_3ca9_11eb_b17b_41ddb3aa25b2row0_col3\" class=\"data row0 col3\" >30.97%</td>\n",
       "            </tr>\n",
       "            <tr>\n",
       "                        <th id=\"T_df621ee0_3ca9_11eb_b17b_41ddb3aa25b2level0_row1\" class=\"row_heading level0 row1\" >1</th>\n",
       "                        <td id=\"T_df621ee0_3ca9_11eb_b17b_41ddb3aa25b2row1_col0\" class=\"data row1 col0\" ></td>\n",
       "                        <td id=\"T_df621ee0_3ca9_11eb_b17b_41ddb3aa25b2row1_col1\" class=\"data row1 col1\" >R$1,469,553.88</td>\n",
       "                        <td id=\"T_df621ee0_3ca9_11eb_b17b_41ddb3aa25b2row1_col2\" class=\"data row1 col2\" >R$4,147,390.12</td>\n",
       "                        <td id=\"T_df621ee0_3ca9_11eb_b17b_41ddb3aa25b2row1_col3\" class=\"data row1 col3\" >35.43%</td>\n",
       "            </tr>\n",
       "            <tr>\n",
       "                        <th id=\"T_df621ee0_3ca9_11eb_b17b_41ddb3aa25b2level0_row2\" class=\"row_heading level0 row2\" >2</th>\n",
       "                        <td id=\"T_df621ee0_3ca9_11eb_b17b_41ddb3aa25b2row2_col0\" class=\"data row2 col0\" ></td>\n",
       "                        <td id=\"T_df621ee0_3ca9_11eb_b17b_41ddb3aa25b2row2_col1\" class=\"data row2 col1\" >R$338,505.77</td>\n",
       "                        <td id=\"T_df621ee0_3ca9_11eb_b17b_41ddb3aa25b2row2_col2\" class=\"data row2 col2\" >R$1,827,998.62</td>\n",
       "                        <td id=\"T_df621ee0_3ca9_11eb_b17b_41ddb3aa25b2row2_col3\" class=\"data row2 col3\" >18.52%</td>\n",
       "            </tr>\n",
       "            <tr>\n",
       "                        <th id=\"T_df621ee0_3ca9_11eb_b17b_41ddb3aa25b2level0_row3\" class=\"row_heading level0 row3\" >3</th>\n",
       "                        <td id=\"T_df621ee0_3ca9_11eb_b17b_41ddb3aa25b2row3_col0\" class=\"data row3 col0\" ></td>\n",
       "                        <td id=\"T_df621ee0_3ca9_11eb_b17b_41ddb3aa25b2row3_col1\" class=\"data row3 col1\" >R$739,815.16</td>\n",
       "                        <td id=\"T_df621ee0_3ca9_11eb_b17b_41ddb3aa25b2row3_col2\" class=\"data row3 col2\" >R$1,942,840.31</td>\n",
       "                        <td id=\"T_df621ee0_3ca9_11eb_b17b_41ddb3aa25b2row3_col3\" class=\"data row3 col3\" >38.08%</td>\n",
       "            </tr>\n",
       "            <tr>\n",
       "                        <th id=\"T_df621ee0_3ca9_11eb_b17b_41ddb3aa25b2level0_row4\" class=\"row_heading level0 row4\" >4</th>\n",
       "                        <td id=\"T_df621ee0_3ca9_11eb_b17b_41ddb3aa25b2row4_col0\" class=\"data row4 col0\" ></td>\n",
       "                        <td id=\"T_df621ee0_3ca9_11eb_b17b_41ddb3aa25b2row4_col1\" class=\"data row4 col1\" >R$789,019.51</td>\n",
       "                        <td id=\"T_df621ee0_3ca9_11eb_b17b_41ddb3aa25b2row4_col2\" class=\"data row4 col2\" >R$2,119,451.98</td>\n",
       "                        <td id=\"T_df621ee0_3ca9_11eb_b17b_41ddb3aa25b2row4_col3\" class=\"data row4 col3\" >37.23%</td>\n",
       "            </tr>\n",
       "            <tr>\n",
       "                        <th id=\"T_df621ee0_3ca9_11eb_b17b_41ddb3aa25b2level0_row5\" class=\"row_heading level0 row5\" >5</th>\n",
       "                        <td id=\"T_df621ee0_3ca9_11eb_b17b_41ddb3aa25b2row5_col0\" class=\"data row5 col0\" ></td>\n",
       "                        <td id=\"T_df621ee0_3ca9_11eb_b17b_41ddb3aa25b2row5_col1\" class=\"data row5 col1\" >R$962,512.69</td>\n",
       "                        <td id=\"T_df621ee0_3ca9_11eb_b17b_41ddb3aa25b2row5_col2\" class=\"data row5 col2\" >R$2,460,125.60</td>\n",
       "                        <td id=\"T_df621ee0_3ca9_11eb_b17b_41ddb3aa25b2row5_col3\" class=\"data row5 col3\" >39.12%</td>\n",
       "            </tr>\n",
       "            <tr>\n",
       "                        <th id=\"T_df621ee0_3ca9_11eb_b17b_41ddb3aa25b2level0_row6\" class=\"row_heading level0 row6\" >6</th>\n",
       "                        <td id=\"T_df621ee0_3ca9_11eb_b17b_41ddb3aa25b2row6_col0\" class=\"data row6 col0\" ></td>\n",
       "                        <td id=\"T_df621ee0_3ca9_11eb_b17b_41ddb3aa25b2row6_col1\" class=\"data row6 col1\" >R$1,175,860.49</td>\n",
       "                        <td id=\"T_df621ee0_3ca9_11eb_b17b_41ddb3aa25b2row6_col2\" class=\"data row6 col2\" >R$2,936,609.45</td>\n",
       "                        <td id=\"T_df621ee0_3ca9_11eb_b17b_41ddb3aa25b2row6_col3\" class=\"data row6 col3\" >40.04%</td>\n",
       "            </tr>\n",
       "            <tr>\n",
       "                        <th id=\"T_df621ee0_3ca9_11eb_b17b_41ddb3aa25b2level0_row7\" class=\"row_heading level0 row7\" >7</th>\n",
       "                        <td id=\"T_df621ee0_3ca9_11eb_b17b_41ddb3aa25b2row7_col0\" class=\"data row7 col0\" ></td>\n",
       "                        <td id=\"T_df621ee0_3ca9_11eb_b17b_41ddb3aa25b2row7_col1\" class=\"data row7 col1\" >R$758,130.95</td>\n",
       "                        <td id=\"T_df621ee0_3ca9_11eb_b17b_41ddb3aa25b2row7_col2\" class=\"data row7 col2\" >R$1,864,505.26</td>\n",
       "                        <td id=\"T_df621ee0_3ca9_11eb_b17b_41ddb3aa25b2row7_col3\" class=\"data row7 col3\" >40.66%</td>\n",
       "            </tr>\n",
       "            <tr>\n",
       "                        <th id=\"T_df621ee0_3ca9_11eb_b17b_41ddb3aa25b2level0_row8\" class=\"row_heading level0 row8\" >8</th>\n",
       "                        <td id=\"T_df621ee0_3ca9_11eb_b17b_41ddb3aa25b2row8_col0\" class=\"data row8 col0\" ></td>\n",
       "                        <td id=\"T_df621ee0_3ca9_11eb_b17b_41ddb3aa25b2row8_col1\" class=\"data row8 col1\" >R$521,065.16</td>\n",
       "                        <td id=\"T_df621ee0_3ca9_11eb_b17b_41ddb3aa25b2row8_col2\" class=\"data row8 col2\" >R$1,281,785.20</td>\n",
       "                        <td id=\"T_df621ee0_3ca9_11eb_b17b_41ddb3aa25b2row8_col3\" class=\"data row8 col3\" >40.65%</td>\n",
       "            </tr>\n",
       "    </tbody></table>"
      ],
      "text/plain": [
       "<pandas.io.formats.style.Styler at 0x7f8832e79dd8>"
      ]
     },
     "execution_count": 4,
     "metadata": {},
     "output_type": "execute_result"
    }
   ],
   "source": [
    "BUFFER_CCI_MENSAL = pd.read_sql(\"Select to_char(ICUP_DT_CUPOM,'mm/yyyy') Mes, sum(ICUP_VL_PAGOCARTAO) Cartao,  sum(ICUP_VL_TOTALITEM) Total, (sum(ICUP_VL_PAGOCARTAO)/sum(ICUP_VL_TOTALITEM)) PCT_SHARE  FROM EVE_BUFFER_CCI_AQUISICAO_HCKT where ICUP_DT_CUPOM >= to_date('01/01/2020','dd/mm/yyyy') and MERC_DS_TIPO_ESTABELECIMENTO='5-POSTO' group by to_char(ICUP_DT_CUPOM,'mm/yyyy')  order by 1\",  con=connection) \n",
    "BUFFER_CCI_MENSAL.style.format({'MES': '','CARTAO': 'R${:,.2f}','TOTAL': 'R${:,.2f}','PCT_SHARE':\"{:.2%}\"})\n",
    "#BUFFER_CCI_MENSAL.plot(x='MES',y='PCT_SHARE')\n",
    "#BUFFER_CCI_MENSAL\n"
   ]
  },
  {
   "cell_type": "code",
   "execution_count": 5,
   "metadata": {},
   "outputs": [
    {
     "data": {
      "text/plain": [
       "<matplotlib.axes._subplots.AxesSubplot at 0x7f8832e79668>"
      ]
     },
     "execution_count": 5,
     "metadata": {},
     "output_type": "execute_result"
    },
    {
     "data": {
      "image/png": "[encoded data removed]",
      "text/plain": [
       "<Figure size 432x288 with 1 Axes>"
      ]
     },
     "metadata": {
      "needs_background": "light"
     },
     "output_type": "display_data"
    }
   ],
   "source": [
    "BUFFER_CCI_MENSAL.plot(x='MES',y='PCT_SHARE')"
   ]
  },
  {
   "cell_type": "markdown",
   "metadata": {},
   "source": [
    "# Qual o volume de transações que representa um incremento de 5% no nosso share de pagamentos nos postos do Grupo ?"
   ]
  },
  {
   "cell_type": "code",
   "execution_count": 6,
   "metadata": {},
   "outputs": [
    {
     "name": "stdout",
     "output_type": "stream",
     "text": [
      "Faturamento médio postos:\n",
      "R$2,526,350.32\n",
      "Incremento de receita mensal:\n",
      "R$126,317.52\n",
      "Incremento de receita no ano:\n",
      "R$1,515,810.19\n"
     ]
    }
   ],
   "source": [
    "print('Faturamento médio postos:')\n",
    "print(\"R${:,.2f}\".format(BUFFER_CCI_MENSAL['TOTAL'].mean()))\n",
    "X = (BUFFER_CCI_MENSAL['TOTAL'].mean())*0.05\n",
    "print('Incremento de receita mensal:')\n",
    "print(\"R${:,.2f}\".format(X))\n",
    "print('Incremento de receita no ano:')\n",
    "print(\"R${:,.2f}\".format(X*12))\n",
    "\n"
   ]
  },
  {
   "cell_type": "markdown",
   "metadata": {},
   "source": [
    "# Vamos estimar quantos clientes novos utilizando a tag precisamos para atingir essa receita, para isso vamos entender o ticket médio do posto"
   ]
  },
  {
   "cell_type": "code",
   "execution_count": 7,
   "metadata": {},
   "outputs": [
    {
     "data": {
      "text/html": [
       "<div>\n",
       "<style scoped>\n",
       "    .dataframe tbody tr th:only-of-type {\n",
       "        vertical-align: middle;\n",
       "    }\n",
       "\n",
       "    .dataframe tbody tr th {\n",
       "        vertical-align: top;\n",
       "    }\n",
       "\n",
       "    .dataframe thead th {\n",
       "        text-align: right;\n",
       "    }\n",
       "</style>\n",
       "<table border=\"1\" class=\"dataframe\">\n",
       "  <thead>\n",
       "    <tr style=\"text-align: right;\">\n",
       "      <th></th>\n",
       "      <th>QTD_CUPONS</th>\n",
       "      <th>VALOR_CUPOM</th>\n",
       "      <th>TICKET_MEDIO</th>\n",
       "    </tr>\n",
       "  </thead>\n",
       "  <tbody>\n",
       "    <tr>\n",
       "      <th>0</th>\n",
       "      <td>258012</td>\n",
       "      <td>R$22,737,152.88</td>\n",
       "      <td>R$88.12</td>\n",
       "    </tr>\n",
       "  </tbody>\n",
       "</table>\n",
       "</div>"
      ],
      "text/plain": [
       "   QTD_CUPONS     VALOR_CUPOM  TICKET_MEDIO\n",
       "0      258012 R$22,737,152.88       R$88.12"
      ]
     },
     "execution_count": 7,
     "metadata": {},
     "output_type": "execute_result"
    }
   ],
   "source": [
    "TICKET_MEDIO = pd.read_sql(\"SELECT COUNT(DISTINCT CUP_ID_CUPOM) QTD_CUPONS, SUM(ICUP_VL_TOTALITEM)  VALOR_CUPOM , SUM(ICUP_VL_TOTALITEM)/COUNT(DISTINCT CUP_ID_CUPOM) TICKET_MEDIO FROM EVE_BUFFER_CCI_AQUISICAO_HCKT where MERC_DS_TIPO_ESTABELECIMENTO='5-POSTO' AND ICUP_DT_CUPOM >= to_date('01/01/2020','dd/mm/yyyy')\", con=connection) \n",
    "TICKET_MEDIO"
   ]
  },
  {
   "cell_type": "code",
   "execution_count": 8,
   "metadata": {},
   "outputs": [
    {
     "name": "stdout",
     "output_type": "stream",
     "text": [
      "1,433.40\n"
     ]
    }
   ],
   "source": [
    "TM = TICKET_MEDIO['TICKET_MEDIO'].sum()\n",
    "QTD_CLIENTES = X/TM\n",
    "print(\"{:,.2f}\".format(QTD_CLIENTES))"
   ]
  },
  {
   "cell_type": "markdown",
   "metadata": {},
   "source": [
    "# Faturamento total ONUS (9 meses)"
   ]
  },
  {
   "cell_type": "code",
   "execution_count": 9,
   "metadata": {},
   "outputs": [
    {
     "name": "stdout",
     "output_type": "stream",
     "text": [
      "0.72%\n"
     ]
    }
   ],
   "source": [
    "FATURAMENTO_TOTAL_ONUS = pd.read_sql(\"Select sum(ICUP_VL_PAGOCARTAO) FATURAMENTO_ONUS FROM EVE_BUFFER_CCI_AQUISICAO_HCKT WHERE ICUP_DT_CUPOM >= TO_DATE('01/01/2020' , 'DD/MM/YYYY')\",  con=connection) \n",
    "FATURAMENTO_TOTAL_ONUS.style.format({'FATURAMENTO_ONUS': 'R${:,.2f}' })\n",
    "#BUFFER_CCI\n",
    "print(\"{:.2%}\".format((X*9)/FATURAMENTO_TOTAL_ONUS['FATURAMENTO_ONUS'].sum()))"
   ]
  },
  {
   "cell_type": "markdown",
   "metadata": {},
   "source": [
    "# Precisamos de 1.400 clientes transacionando mensalmente em postos através da tag para alcançar os 5% de incremento no share de meios de pagamento. Isso representa um incremento de R$1.5 M no faturamento anual ou seja 0,72% do faturamento total ON-US"
   ]
  },
  {
   "cell_type": "code",
   "execution_count": 10,
   "metadata": {},
   "outputs": [
    {
     "name": "stdout",
     "output_type": "stream",
     "text": [
      "Valor faturamento anual considerando uma mensalidade de 5 reais pelo serviço\n",
      "R$86,004.00\n"
     ]
    }
   ],
   "source": [
    "total_mensalidade = 1433.40 * 12 * 5\n",
    "print('Valor faturamento anual considerando uma mensalidade de 5 reais pelo serviço')\n",
    "print(\"R${:,.2f}\".format(total_mensalidade))\n"
   ]
  },
  {
   "cell_type": "markdown",
   "metadata": {},
   "source": [
    "<font color='red' size='big'> OBS. Os valores são baseados na amostra de dados disponibilizada para o Hackaton, os números podem apresentam volume maior se utilizada a base inteira para análise</font>"
   ]
  },
  {
   "cell_type": "code",
   "execution_count": null,
   "metadata": {},
   "outputs": [],
   "source": []
  }
 ],
 "metadata": {
  "kernelspec": {
   "display_name": "Python 3",
   "language": "python",
   "name": "python3"
  },
  "language_info": {
   "codemirror_mode": {
    "name": "ipython",
    "version": 3
   },
   "file_extension": ".py",
   "mimetype": "text/x-python",
   "name": "python",
   "nbconvert_exporter": "python",
   "pygments_lexer": "ipython3",
   "version": "3.6.10"
  }
 },
 "nbformat": 4,
 "nbformat_minor": 4
}
